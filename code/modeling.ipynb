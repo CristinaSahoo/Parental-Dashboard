{
 "cells": [
  {
   "cell_type": "code",
   "execution_count": 1,
   "metadata": {},
   "outputs": [],
   "source": [
    "import pandas as pd\n",
    "import numpy as np"
   ]
  },
  {
   "cell_type": "code",
   "execution_count": 2,
   "metadata": {},
   "outputs": [],
   "source": [
    "df = pd.read_csv('../data/selected_data.csv')"
   ]
  },
  {
   "cell_type": "code",
   "execution_count": 3,
   "metadata": {},
   "outputs": [],
   "source": [
    "pd.set_option('display.max_rows', 500)\n",
    "pd.set_option('display.max_columns', 500)"
   ]
  },
  {
   "cell_type": "code",
   "execution_count": 4,
   "metadata": {},
   "outputs": [
    {
     "data": {
      "text/html": [
       "<div>\n",
       "<style scoped>\n",
       "    .dataframe tbody tr th:only-of-type {\n",
       "        vertical-align: middle;\n",
       "    }\n",
       "\n",
       "    .dataframe tbody tr th {\n",
       "        vertical-align: top;\n",
       "    }\n",
       "\n",
       "    .dataframe thead th {\n",
       "        text-align: right;\n",
       "    }\n",
       "</style>\n",
       "<table border=\"1\" class=\"dataframe\">\n",
       "  <thead>\n",
       "    <tr style=\"text-align: right;\">\n",
       "      <th></th>\n",
       "      <th>country_name</th>\n",
       "      <th>country_code</th>\n",
       "      <th>indicator_code</th>\n",
       "      <th>1970</th>\n",
       "      <th>1971</th>\n",
       "      <th>1972</th>\n",
       "      <th>1973</th>\n",
       "      <th>1974</th>\n",
       "      <th>1975</th>\n",
       "      <th>1976</th>\n",
       "      <th>1977</th>\n",
       "      <th>1978</th>\n",
       "      <th>1979</th>\n",
       "      <th>1980</th>\n",
       "      <th>1981</th>\n",
       "      <th>1982</th>\n",
       "      <th>1983</th>\n",
       "      <th>1984</th>\n",
       "      <th>1985</th>\n",
       "      <th>1986</th>\n",
       "      <th>1987</th>\n",
       "      <th>1988</th>\n",
       "      <th>1989</th>\n",
       "      <th>1990</th>\n",
       "      <th>1991</th>\n",
       "      <th>1992</th>\n",
       "      <th>1993</th>\n",
       "      <th>1994</th>\n",
       "      <th>1995</th>\n",
       "      <th>1996</th>\n",
       "      <th>1997</th>\n",
       "      <th>1998</th>\n",
       "      <th>1999</th>\n",
       "      <th>2000</th>\n",
       "      <th>2001</th>\n",
       "      <th>2002</th>\n",
       "      <th>2003</th>\n",
       "      <th>2004</th>\n",
       "      <th>2005</th>\n",
       "      <th>2006</th>\n",
       "      <th>2007</th>\n",
       "      <th>2008</th>\n",
       "      <th>2009</th>\n",
       "      <th>2010</th>\n",
       "      <th>2011</th>\n",
       "      <th>2012</th>\n",
       "      <th>2013</th>\n",
       "      <th>2014</th>\n",
       "      <th>2015</th>\n",
       "      <th>2016</th>\n",
       "      <th>2017</th>\n",
       "      <th>2018</th>\n",
       "      <th>2019</th>\n",
       "    </tr>\n",
       "  </thead>\n",
       "  <tbody>\n",
       "    <tr>\n",
       "      <th>0</th>\n",
       "      <td>Afghanistan</td>\n",
       "      <td>AFG</td>\n",
       "      <td>PCT.ENG.STM.THR</td>\n",
       "      <td>NaN</td>\n",
       "      <td>NaN</td>\n",
       "      <td>NaN</td>\n",
       "      <td>NaN</td>\n",
       "      <td>NaN</td>\n",
       "      <td>NaN</td>\n",
       "      <td>NaN</td>\n",
       "      <td>NaN</td>\n",
       "      <td>NaN</td>\n",
       "      <td>NaN</td>\n",
       "      <td>NaN</td>\n",
       "      <td>NaN</td>\n",
       "      <td>NaN</td>\n",
       "      <td>NaN</td>\n",
       "      <td>NaN</td>\n",
       "      <td>NaN</td>\n",
       "      <td>NaN</td>\n",
       "      <td>NaN</td>\n",
       "      <td>NaN</td>\n",
       "      <td>NaN</td>\n",
       "      <td>NaN</td>\n",
       "      <td>NaN</td>\n",
       "      <td>NaN</td>\n",
       "      <td>NaN</td>\n",
       "      <td>NaN</td>\n",
       "      <td>NaN</td>\n",
       "      <td>NaN</td>\n",
       "      <td>NaN</td>\n",
       "      <td>NaN</td>\n",
       "      <td>NaN</td>\n",
       "      <td>NaN</td>\n",
       "      <td>NaN</td>\n",
       "      <td>NaN</td>\n",
       "      <td>NaN</td>\n",
       "      <td>NaN</td>\n",
       "      <td>NaN</td>\n",
       "      <td>NaN</td>\n",
       "      <td>NaN</td>\n",
       "      <td>NaN</td>\n",
       "      <td>NaN</td>\n",
       "      <td>NaN</td>\n",
       "      <td>73.100000</td>\n",
       "      <td>NaN</td>\n",
       "      <td>NaN</td>\n",
       "      <td>NaN</td>\n",
       "      <td>NaN</td>\n",
       "      <td>NaN</td>\n",
       "      <td>NaN</td>\n",
       "      <td>NaN</td>\n",
       "      <td>NaN</td>\n",
       "    </tr>\n",
       "    <tr>\n",
       "      <th>1</th>\n",
       "      <td>Afghanistan</td>\n",
       "      <td>AFG</td>\n",
       "      <td>SL.TLF.ACTI.MA.ZS</td>\n",
       "      <td>NaN</td>\n",
       "      <td>NaN</td>\n",
       "      <td>NaN</td>\n",
       "      <td>NaN</td>\n",
       "      <td>NaN</td>\n",
       "      <td>NaN</td>\n",
       "      <td>NaN</td>\n",
       "      <td>NaN</td>\n",
       "      <td>NaN</td>\n",
       "      <td>NaN</td>\n",
       "      <td>NaN</td>\n",
       "      <td>NaN</td>\n",
       "      <td>NaN</td>\n",
       "      <td>NaN</td>\n",
       "      <td>NaN</td>\n",
       "      <td>NaN</td>\n",
       "      <td>NaN</td>\n",
       "      <td>NaN</td>\n",
       "      <td>NaN</td>\n",
       "      <td>NaN</td>\n",
       "      <td>80.709999</td>\n",
       "      <td>80.655998</td>\n",
       "      <td>80.571999</td>\n",
       "      <td>80.462997</td>\n",
       "      <td>80.325996</td>\n",
       "      <td>80.156998</td>\n",
       "      <td>80.140999</td>\n",
       "      <td>80.146004</td>\n",
       "      <td>80.161003</td>\n",
       "      <td>80.179001</td>\n",
       "      <td>80.203003</td>\n",
       "      <td>80.255997</td>\n",
       "      <td>80.331001</td>\n",
       "      <td>80.426003</td>\n",
       "      <td>80.540001</td>\n",
       "      <td>80.662003</td>\n",
       "      <td>80.647003</td>\n",
       "      <td>80.621002</td>\n",
       "      <td>80.566002</td>\n",
       "      <td>80.466003</td>\n",
       "      <td>80.318001</td>\n",
       "      <td>80.221001</td>\n",
       "      <td>80.132004</td>\n",
       "      <td>79.433998</td>\n",
       "      <td>78.738998</td>\n",
       "      <td>78.047997</td>\n",
       "      <td>77.333000</td>\n",
       "      <td>76.581001</td>\n",
       "      <td>76.582001</td>\n",
       "      <td>76.541000</td>\n",
       "    </tr>\n",
       "    <tr>\n",
       "      <th>2</th>\n",
       "      <td>Afghanistan</td>\n",
       "      <td>AFG</td>\n",
       "      <td>SL.TLF.CACT.MA.NE.ZS</td>\n",
       "      <td>NaN</td>\n",
       "      <td>NaN</td>\n",
       "      <td>NaN</td>\n",
       "      <td>NaN</td>\n",
       "      <td>NaN</td>\n",
       "      <td>NaN</td>\n",
       "      <td>NaN</td>\n",
       "      <td>NaN</td>\n",
       "      <td>NaN</td>\n",
       "      <td>96.779999</td>\n",
       "      <td>NaN</td>\n",
       "      <td>NaN</td>\n",
       "      <td>NaN</td>\n",
       "      <td>NaN</td>\n",
       "      <td>NaN</td>\n",
       "      <td>NaN</td>\n",
       "      <td>NaN</td>\n",
       "      <td>NaN</td>\n",
       "      <td>NaN</td>\n",
       "      <td>NaN</td>\n",
       "      <td>NaN</td>\n",
       "      <td>NaN</td>\n",
       "      <td>NaN</td>\n",
       "      <td>NaN</td>\n",
       "      <td>NaN</td>\n",
       "      <td>NaN</td>\n",
       "      <td>NaN</td>\n",
       "      <td>NaN</td>\n",
       "      <td>NaN</td>\n",
       "      <td>NaN</td>\n",
       "      <td>NaN</td>\n",
       "      <td>NaN</td>\n",
       "      <td>NaN</td>\n",
       "      <td>NaN</td>\n",
       "      <td>NaN</td>\n",
       "      <td>NaN</td>\n",
       "      <td>NaN</td>\n",
       "      <td>NaN</td>\n",
       "      <td>82.036201</td>\n",
       "      <td>NaN</td>\n",
       "      <td>NaN</td>\n",
       "      <td>NaN</td>\n",
       "      <td>77.046997</td>\n",
       "      <td>NaN</td>\n",
       "      <td>77.076797</td>\n",
       "      <td>NaN</td>\n",
       "      <td>NaN</td>\n",
       "      <td>73.163597</td>\n",
       "      <td>NaN</td>\n",
       "      <td>NaN</td>\n",
       "    </tr>\n",
       "    <tr>\n",
       "      <th>3</th>\n",
       "      <td>Afghanistan</td>\n",
       "      <td>AFG</td>\n",
       "      <td>SL.TLF.CACT.MA.ZS</td>\n",
       "      <td>NaN</td>\n",
       "      <td>NaN</td>\n",
       "      <td>NaN</td>\n",
       "      <td>NaN</td>\n",
       "      <td>NaN</td>\n",
       "      <td>NaN</td>\n",
       "      <td>NaN</td>\n",
       "      <td>NaN</td>\n",
       "      <td>NaN</td>\n",
       "      <td>NaN</td>\n",
       "      <td>NaN</td>\n",
       "      <td>NaN</td>\n",
       "      <td>NaN</td>\n",
       "      <td>NaN</td>\n",
       "      <td>NaN</td>\n",
       "      <td>NaN</td>\n",
       "      <td>NaN</td>\n",
       "      <td>NaN</td>\n",
       "      <td>NaN</td>\n",
       "      <td>NaN</td>\n",
       "      <td>78.823997</td>\n",
       "      <td>78.761002</td>\n",
       "      <td>78.662003</td>\n",
       "      <td>78.531998</td>\n",
       "      <td>78.369003</td>\n",
       "      <td>78.162003</td>\n",
       "      <td>78.150002</td>\n",
       "      <td>78.168999</td>\n",
       "      <td>78.205002</td>\n",
       "      <td>78.250999</td>\n",
       "      <td>78.306999</td>\n",
       "      <td>78.382004</td>\n",
       "      <td>78.473000</td>\n",
       "      <td>78.580002</td>\n",
       "      <td>78.697998</td>\n",
       "      <td>78.820000</td>\n",
       "      <td>78.778999</td>\n",
       "      <td>78.731003</td>\n",
       "      <td>78.660004</td>\n",
       "      <td>78.551003</td>\n",
       "      <td>78.401001</td>\n",
       "      <td>78.302002</td>\n",
       "      <td>78.208000</td>\n",
       "      <td>77.535004</td>\n",
       "      <td>76.864998</td>\n",
       "      <td>76.197998</td>\n",
       "      <td>75.483002</td>\n",
       "      <td>74.735001</td>\n",
       "      <td>74.707001</td>\n",
       "      <td>74.657997</td>\n",
       "    </tr>\n",
       "    <tr>\n",
       "      <th>4</th>\n",
       "      <td>Afghanistan</td>\n",
       "      <td>AFG</td>\n",
       "      <td>SL.TLF.ACTI.FE.ZS</td>\n",
       "      <td>NaN</td>\n",
       "      <td>NaN</td>\n",
       "      <td>NaN</td>\n",
       "      <td>NaN</td>\n",
       "      <td>NaN</td>\n",
       "      <td>NaN</td>\n",
       "      <td>NaN</td>\n",
       "      <td>NaN</td>\n",
       "      <td>NaN</td>\n",
       "      <td>NaN</td>\n",
       "      <td>NaN</td>\n",
       "      <td>NaN</td>\n",
       "      <td>NaN</td>\n",
       "      <td>NaN</td>\n",
       "      <td>NaN</td>\n",
       "      <td>NaN</td>\n",
       "      <td>NaN</td>\n",
       "      <td>NaN</td>\n",
       "      <td>NaN</td>\n",
       "      <td>NaN</td>\n",
       "      <td>15.662000</td>\n",
       "      <td>15.737000</td>\n",
       "      <td>15.783000</td>\n",
       "      <td>15.771000</td>\n",
       "      <td>15.747000</td>\n",
       "      <td>15.781000</td>\n",
       "      <td>15.582000</td>\n",
       "      <td>15.399000</td>\n",
       "      <td>15.270000</td>\n",
       "      <td>15.193000</td>\n",
       "      <td>15.145000</td>\n",
       "      <td>15.338000</td>\n",
       "      <td>15.592000</td>\n",
       "      <td>15.862000</td>\n",
       "      <td>16.118999</td>\n",
       "      <td>16.358999</td>\n",
       "      <td>16.079000</td>\n",
       "      <td>15.806000</td>\n",
       "      <td>15.587000</td>\n",
       "      <td>15.467000</td>\n",
       "      <td>15.469000</td>\n",
       "      <td>15.898000</td>\n",
       "      <td>16.441999</td>\n",
       "      <td>17.424000</td>\n",
       "      <td>18.459999</td>\n",
       "      <td>19.552000</td>\n",
       "      <td>20.704000</td>\n",
       "      <td>21.910000</td>\n",
       "      <td>22.377001</td>\n",
       "      <td>22.566999</td>\n",
       "    </tr>\n",
       "  </tbody>\n",
       "</table>\n",
       "</div>"
      ],
      "text/plain": [
       "  country_name country_code        indicator_code  1970  1971  1972  1973  \\\n",
       "0  Afghanistan          AFG       PCT.ENG.STM.THR   NaN   NaN   NaN   NaN   \n",
       "1  Afghanistan          AFG     SL.TLF.ACTI.MA.ZS   NaN   NaN   NaN   NaN   \n",
       "2  Afghanistan          AFG  SL.TLF.CACT.MA.NE.ZS   NaN   NaN   NaN   NaN   \n",
       "3  Afghanistan          AFG     SL.TLF.CACT.MA.ZS   NaN   NaN   NaN   NaN   \n",
       "4  Afghanistan          AFG     SL.TLF.ACTI.FE.ZS   NaN   NaN   NaN   NaN   \n",
       "\n",
       "   1974  1975  1976  1977  1978       1979  1980  1981  1982  1983  1984  \\\n",
       "0   NaN   NaN   NaN   NaN   NaN        NaN   NaN   NaN   NaN   NaN   NaN   \n",
       "1   NaN   NaN   NaN   NaN   NaN        NaN   NaN   NaN   NaN   NaN   NaN   \n",
       "2   NaN   NaN   NaN   NaN   NaN  96.779999   NaN   NaN   NaN   NaN   NaN   \n",
       "3   NaN   NaN   NaN   NaN   NaN        NaN   NaN   NaN   NaN   NaN   NaN   \n",
       "4   NaN   NaN   NaN   NaN   NaN        NaN   NaN   NaN   NaN   NaN   NaN   \n",
       "\n",
       "   1985  1986  1987  1988  1989       1990       1991       1992       1993  \\\n",
       "0   NaN   NaN   NaN   NaN   NaN        NaN        NaN        NaN        NaN   \n",
       "1   NaN   NaN   NaN   NaN   NaN  80.709999  80.655998  80.571999  80.462997   \n",
       "2   NaN   NaN   NaN   NaN   NaN        NaN        NaN        NaN        NaN   \n",
       "3   NaN   NaN   NaN   NaN   NaN  78.823997  78.761002  78.662003  78.531998   \n",
       "4   NaN   NaN   NaN   NaN   NaN  15.662000  15.737000  15.783000  15.771000   \n",
       "\n",
       "        1994       1995       1996       1997       1998       1999  \\\n",
       "0        NaN        NaN        NaN        NaN        NaN        NaN   \n",
       "1  80.325996  80.156998  80.140999  80.146004  80.161003  80.179001   \n",
       "2        NaN        NaN        NaN        NaN        NaN        NaN   \n",
       "3  78.369003  78.162003  78.150002  78.168999  78.205002  78.250999   \n",
       "4  15.747000  15.781000  15.582000  15.399000  15.270000  15.193000   \n",
       "\n",
       "        2000       2001       2002       2003       2004       2005  \\\n",
       "0        NaN        NaN        NaN        NaN        NaN        NaN   \n",
       "1  80.203003  80.255997  80.331001  80.426003  80.540001  80.662003   \n",
       "2        NaN        NaN        NaN        NaN        NaN        NaN   \n",
       "3  78.306999  78.382004  78.473000  78.580002  78.697998  78.820000   \n",
       "4  15.145000  15.338000  15.592000  15.862000  16.118999  16.358999   \n",
       "\n",
       "        2006       2007       2008       2009       2010       2011  \\\n",
       "0        NaN        NaN        NaN        NaN        NaN  73.100000   \n",
       "1  80.647003  80.621002  80.566002  80.466003  80.318001  80.221001   \n",
       "2        NaN        NaN  82.036201        NaN        NaN        NaN   \n",
       "3  78.778999  78.731003  78.660004  78.551003  78.401001  78.302002   \n",
       "4  16.079000  15.806000  15.587000  15.467000  15.469000  15.898000   \n",
       "\n",
       "        2012       2013       2014       2015       2016       2017  \\\n",
       "0        NaN        NaN        NaN        NaN        NaN        NaN   \n",
       "1  80.132004  79.433998  78.738998  78.047997  77.333000  76.581001   \n",
       "2  77.046997        NaN  77.076797        NaN        NaN  73.163597   \n",
       "3  78.208000  77.535004  76.864998  76.197998  75.483002  74.735001   \n",
       "4  16.441999  17.424000  18.459999  19.552000  20.704000  21.910000   \n",
       "\n",
       "        2018       2019  \n",
       "0        NaN        NaN  \n",
       "1  76.582001  76.541000  \n",
       "2        NaN        NaN  \n",
       "3  74.707001  74.657997  \n",
       "4  22.377001  22.566999  "
      ]
     },
     "execution_count": 4,
     "metadata": {},
     "output_type": "execute_result"
    }
   ],
   "source": [
    "df.head()"
   ]
  },
  {
   "cell_type": "code",
   "execution_count": 5,
   "metadata": {},
   "outputs": [
    {
     "data": {
      "text/html": [
       "<div>\n",
       "<style scoped>\n",
       "    .dataframe tbody tr th:only-of-type {\n",
       "        vertical-align: middle;\n",
       "    }\n",
       "\n",
       "    .dataframe tbody tr th {\n",
       "        vertical-align: top;\n",
       "    }\n",
       "\n",
       "    .dataframe thead th {\n",
       "        text-align: right;\n",
       "    }\n",
       "</style>\n",
       "<table border=\"1\" class=\"dataframe\">\n",
       "  <thead>\n",
       "    <tr style=\"text-align: right;\">\n",
       "      <th></th>\n",
       "      <th>country_name</th>\n",
       "      <th>2018</th>\n",
       "    </tr>\n",
       "    <tr>\n",
       "      <th>indicator_code</th>\n",
       "      <th></th>\n",
       "      <th></th>\n",
       "    </tr>\n",
       "  </thead>\n",
       "  <tbody>\n",
       "    <tr>\n",
       "      <th>SP.DYN.IMRT.FE.IN</th>\n",
       "      <td>422</td>\n",
       "      <td>384</td>\n",
       "    </tr>\n",
       "    <tr>\n",
       "      <th>SP.DYN.IMRT.MA.IN</th>\n",
       "      <td>422</td>\n",
       "      <td>384</td>\n",
       "    </tr>\n",
       "    <tr>\n",
       "      <th>SH.IMM.MEAS</th>\n",
       "      <td>422</td>\n",
       "      <td>384</td>\n",
       "    </tr>\n",
       "    <tr>\n",
       "      <th>SH.IMM.IDPT</th>\n",
       "      <td>422</td>\n",
       "      <td>384</td>\n",
       "    </tr>\n",
       "    <tr>\n",
       "      <th>SP.POP.TOTL</th>\n",
       "      <td>211</td>\n",
       "      <td>210</td>\n",
       "    </tr>\n",
       "  </tbody>\n",
       "</table>\n",
       "</div>"
      ],
      "text/plain": [
       "                   country_name  2018\n",
       "indicator_code                       \n",
       "SP.DYN.IMRT.FE.IN           422   384\n",
       "SP.DYN.IMRT.MA.IN           422   384\n",
       "SH.IMM.MEAS                 422   384\n",
       "SH.IMM.IDPT                 422   384\n",
       "SP.POP.TOTL                 211   210"
      ]
     },
     "execution_count": 5,
     "metadata": {},
     "output_type": "execute_result"
    }
   ],
   "source": [
    "df.groupby(by=['indicator_code'])[['country_name', '2018']].count().sort_values(by='2018', ascending=False).head()"
   ]
  },
  {
   "cell_type": "code",
   "execution_count": 6,
   "metadata": {},
   "outputs": [
    {
     "data": {
      "text/plain": [
       "(192, 2)"
      ]
     },
     "execution_count": 6,
     "metadata": {},
     "output_type": "execute_result"
    }
   ],
   "source": [
    "# SH.IMM.IDPT\n",
    "# Immunization, DPT (% of children ages 12-23 months)\n",
    "temp = df[df['indicator_code'] == 'SP.DYN.IMRT.MA.IN'][['country_name', '2018']]\n",
    "temp.drop_duplicates(inplace=True)\n",
    "temp.dropna(inplace=True)\n",
    "temp.reset_index(drop=True, inplace=True)\n",
    "temp.shape"
   ]
  },
  {
   "cell_type": "code",
   "execution_count": 7,
   "metadata": {},
   "outputs": [],
   "source": [
    "df1 = pd.read_csv('../data/parental_leave_oecd.csv')"
   ]
  },
  {
   "cell_type": "code",
   "execution_count": 8,
   "metadata": {},
   "outputs": [
    {
     "data": {
      "text/html": [
       "<div>\n",
       "<style scoped>\n",
       "    .dataframe tbody tr th:only-of-type {\n",
       "        vertical-align: middle;\n",
       "    }\n",
       "\n",
       "    .dataframe tbody tr th {\n",
       "        vertical-align: top;\n",
       "    }\n",
       "\n",
       "    .dataframe thead th {\n",
       "        text-align: right;\n",
       "    }\n",
       "</style>\n",
       "<table border=\"1\" class=\"dataframe\">\n",
       "  <thead>\n",
       "    <tr style=\"text-align: right;\">\n",
       "      <th></th>\n",
       "      <th>country_name</th>\n",
       "      <th>ppl_weeks</th>\n",
       "      <th>ppl_avg_pay_rate</th>\n",
       "      <th>ppl_full_equiv_weeks</th>\n",
       "      <th>p_hcl_weeks</th>\n",
       "      <th>p_hcl_avg_pr</th>\n",
       "      <th>p_hcl_fe_wk</th>\n",
       "      <th>p_tpl_wk</th>\n",
       "      <th>p_tpl_avg_pr</th>\n",
       "      <th>p_tpl_fe_wk</th>\n",
       "      <th>pml_weeks</th>\n",
       "      <th>pml_avg_pay_rate</th>\n",
       "      <th>pml_full_equiv_weeks</th>\n",
       "      <th>m_hcl_weeks</th>\n",
       "      <th>m_hcl_avg_pr</th>\n",
       "      <th>m_hcl_fe_wk</th>\n",
       "      <th>m_tpl_wk</th>\n",
       "      <th>m_tpl_avg_pr</th>\n",
       "      <th>m_tpl_fe_wk</th>\n",
       "    </tr>\n",
       "  </thead>\n",
       "  <tbody>\n",
       "    <tr>\n",
       "      <th>0</th>\n",
       "      <td>Australia</td>\n",
       "      <td>2.0</td>\n",
       "      <td>42.9</td>\n",
       "      <td>0.9</td>\n",
       "      <td>0.0</td>\n",
       "      <td>0.0</td>\n",
       "      <td>0.0</td>\n",
       "      <td>2.0</td>\n",
       "      <td>42.9</td>\n",
       "      <td>0.9</td>\n",
       "      <td>18.0</td>\n",
       "      <td>42.9</td>\n",
       "      <td>7.7</td>\n",
       "      <td>0.0</td>\n",
       "      <td>0.0</td>\n",
       "      <td>0.0</td>\n",
       "      <td>18.0</td>\n",
       "      <td>42.9</td>\n",
       "      <td>7.7</td>\n",
       "    </tr>\n",
       "    <tr>\n",
       "      <th>1</th>\n",
       "      <td>Austria</td>\n",
       "      <td>0.0</td>\n",
       "      <td>0.0</td>\n",
       "      <td>0.0</td>\n",
       "      <td>8.7</td>\n",
       "      <td>75.8</td>\n",
       "      <td>6.6</td>\n",
       "      <td>8.7</td>\n",
       "      <td>75.8</td>\n",
       "      <td>6.6</td>\n",
       "      <td>16.0</td>\n",
       "      <td>100.0</td>\n",
       "      <td>16.0</td>\n",
       "      <td>44.0</td>\n",
       "      <td>75.8</td>\n",
       "      <td>33.4</td>\n",
       "      <td>60.0</td>\n",
       "      <td>82.3</td>\n",
       "      <td>49.4</td>\n",
       "    </tr>\n",
       "    <tr>\n",
       "      <th>2</th>\n",
       "      <td>Belgium</td>\n",
       "      <td>2.0</td>\n",
       "      <td>73.0</td>\n",
       "      <td>1.5</td>\n",
       "      <td>17.3</td>\n",
       "      <td>20.3</td>\n",
       "      <td>3.5</td>\n",
       "      <td>19.3</td>\n",
       "      <td>25.7</td>\n",
       "      <td>5.0</td>\n",
       "      <td>15.0</td>\n",
       "      <td>63.7</td>\n",
       "      <td>9.6</td>\n",
       "      <td>17.3</td>\n",
       "      <td>20.3</td>\n",
       "      <td>3.5</td>\n",
       "      <td>32.3</td>\n",
       "      <td>40.4</td>\n",
       "      <td>13.1</td>\n",
       "    </tr>\n",
       "    <tr>\n",
       "      <th>3</th>\n",
       "      <td>Canada</td>\n",
       "      <td>0.0</td>\n",
       "      <td>0.0</td>\n",
       "      <td>0.0</td>\n",
       "      <td>0.0</td>\n",
       "      <td>0.0</td>\n",
       "      <td>0.0</td>\n",
       "      <td>0.0</td>\n",
       "      <td>0.0</td>\n",
       "      <td>0.0</td>\n",
       "      <td>16.0</td>\n",
       "      <td>49.9</td>\n",
       "      <td>8.0</td>\n",
       "      <td>35.0</td>\n",
       "      <td>53.2</td>\n",
       "      <td>18.6</td>\n",
       "      <td>51.0</td>\n",
       "      <td>52.1</td>\n",
       "      <td>26.6</td>\n",
       "    </tr>\n",
       "    <tr>\n",
       "      <th>4</th>\n",
       "      <td>Chile</td>\n",
       "      <td>1.0</td>\n",
       "      <td>100.0</td>\n",
       "      <td>1.0</td>\n",
       "      <td>0.0</td>\n",
       "      <td>0.0</td>\n",
       "      <td>0.0</td>\n",
       "      <td>1.0</td>\n",
       "      <td>100.0</td>\n",
       "      <td>1.0</td>\n",
       "      <td>18.0</td>\n",
       "      <td>100.0</td>\n",
       "      <td>18.0</td>\n",
       "      <td>12.0</td>\n",
       "      <td>100.0</td>\n",
       "      <td>12.0</td>\n",
       "      <td>30.0</td>\n",
       "      <td>100.0</td>\n",
       "      <td>30.0</td>\n",
       "    </tr>\n",
       "  </tbody>\n",
       "</table>\n",
       "</div>"
      ],
      "text/plain": [
       "  country_name  ppl_weeks  ppl_avg_pay_rate  ppl_full_equiv_weeks  \\\n",
       "0    Australia        2.0              42.9                   0.9   \n",
       "1      Austria        0.0               0.0                   0.0   \n",
       "2      Belgium        2.0              73.0                   1.5   \n",
       "3       Canada        0.0               0.0                   0.0   \n",
       "4        Chile        1.0             100.0                   1.0   \n",
       "\n",
       "   p_hcl_weeks  p_hcl_avg_pr  p_hcl_fe_wk  p_tpl_wk p_tpl_avg_pr p_tpl_fe_wk  \\\n",
       "0          0.0           0.0          0.0       2.0         42.9         0.9   \n",
       "1          8.7          75.8          6.6       8.7         75.8         6.6   \n",
       "2         17.3          20.3          3.5      19.3         25.7         5.0   \n",
       "3          0.0           0.0          0.0       0.0          0.0         0.0   \n",
       "4          0.0           0.0          0.0       1.0        100.0         1.0   \n",
       "\n",
       "   pml_weeks  pml_avg_pay_rate  pml_full_equiv_weeks  m_hcl_weeks  \\\n",
       "0       18.0              42.9                   7.7          0.0   \n",
       "1       16.0             100.0                  16.0         44.0   \n",
       "2       15.0              63.7                   9.6         17.3   \n",
       "3       16.0              49.9                   8.0         35.0   \n",
       "4       18.0             100.0                  18.0         12.0   \n",
       "\n",
       "   m_hcl_avg_pr  m_hcl_fe_wk  m_tpl_wk  m_tpl_avg_pr  m_tpl_fe_wk  \n",
       "0           0.0          0.0      18.0          42.9          7.7  \n",
       "1          75.8         33.4      60.0          82.3         49.4  \n",
       "2          20.3          3.5      32.3          40.4         13.1  \n",
       "3          53.2         18.6      51.0          52.1         26.6  \n",
       "4         100.0         12.0      30.0         100.0         30.0  "
      ]
     },
     "execution_count": 8,
     "metadata": {},
     "output_type": "execute_result"
    }
   ],
   "source": [
    "df1.head()"
   ]
  },
  {
   "cell_type": "code",
   "execution_count": 9,
   "metadata": {},
   "outputs": [
    {
     "data": {
      "text/plain": [
       "(42, 19)"
      ]
     },
     "execution_count": 9,
     "metadata": {},
     "output_type": "execute_result"
    }
   ],
   "source": [
    "df1.shape"
   ]
  },
  {
   "cell_type": "code",
   "execution_count": 10,
   "metadata": {},
   "outputs": [
    {
     "data": {
      "text/plain": [
       "['United States', 'Korea']"
      ]
     },
     "execution_count": 10,
     "metadata": {},
     "output_type": "execute_result"
    }
   ],
   "source": [
    "set_difference = set(df1['country_name'].values) - set(temp['country_name'].values)\n",
    "list_difference = list(set_difference)\n",
    "list_difference"
   ]
  },
  {
   "cell_type": "code",
   "execution_count": 11,
   "metadata": {},
   "outputs": [],
   "source": [
    "df1.replace('United States', 'United States of America', inplace=True)"
   ]
  },
  {
   "cell_type": "code",
   "execution_count": 12,
   "metadata": {},
   "outputs": [],
   "source": [
    "temp1 = pd.merge(temp, df1, left_on='country_name', right_on='country_name', how='inner')"
   ]
  },
  {
   "cell_type": "code",
   "execution_count": 13,
   "metadata": {},
   "outputs": [],
   "source": [
    "import seaborn as sns\n",
    "import matplotlib.pyplot as plt"
   ]
  },
  {
   "cell_type": "code",
   "execution_count": 14,
   "metadata": {},
   "outputs": [
    {
     "data": {
      "text/plain": [
       "Index(['country_name', '2018', 'ppl_weeks', 'ppl_avg_pay_rate',\n",
       "       'ppl_full_equiv_weeks', 'p_hcl_weeks', 'p_hcl_avg_pr', 'p_hcl_fe_wk',\n",
       "       'p_tpl_wk', 'p_tpl_avg_pr', 'p_tpl_fe_wk', 'pml_weeks',\n",
       "       'pml_avg_pay_rate', 'pml_full_equiv_weeks', 'm_hcl_weeks',\n",
       "       'm_hcl_avg_pr', 'm_hcl_fe_wk', 'm_tpl_wk', 'm_tpl_avg_pr',\n",
       "       'm_tpl_fe_wk'],\n",
       "      dtype='object')"
      ]
     },
     "execution_count": 14,
     "metadata": {},
     "output_type": "execute_result"
    }
   ],
   "source": [
    "temp1.columns"
   ]
  },
  {
   "cell_type": "code",
   "execution_count": 15,
   "metadata": {},
   "outputs": [
    {
     "data": {
      "image/png": "[encoded data removed]",
      "text/plain": [
       "<Figure size 864x720 with 2 Axes>"
      ]
     },
     "metadata": {
      "needs_background": "light"
     },
     "output_type": "display_data"
    }
   ],
   "source": [
    "# as paternal leave characteristics worsen, less weeks, mortality rate increases\n",
    "# there is a negative correlation between the number of weeks of paternity leave and mortality rate in 2018\n",
    "plt.figure (figsize=(12,10))\n",
    "sns.heatmap(temp1.corr()[['2018']].sort_values('2018', ascending=False),\n",
    "            vmax=1, vmin=-1, cmap='coolwarm', annot=True);"
   ]
  },
  {
   "cell_type": "code",
   "execution_count": 16,
   "metadata": {},
   "outputs": [],
   "source": [
    "features = ['p_tpl_wk', 'p_hcl_fe_wk', 'p_hcl_weeks', 'm_tpl_fe_wk', 'p_hcl_avg_pr']"
   ]
  },
  {
   "cell_type": "code",
   "execution_count": 17,
   "metadata": {},
   "outputs": [],
   "source": [
    "from sklearn.linear_model import LinearRegression\n",
    "from sklearn.model_selection import train_test_split, cross_val_score\n",
    "from sklearn import metrics"
   ]
  },
  {
   "cell_type": "code",
   "execution_count": 18,
   "metadata": {},
   "outputs": [],
   "source": [
    "def calc_metrics(true, pred):\n",
    "    return print ('RMSE '+ str(np.sqrt(metrics.mean_squared_error(true, pred))) + '\\n' +\n",
    "                  'MSE  ' + str(metrics.mean_squared_error (true, pred)) + '\\n' +\n",
    "                  'R2   ' + str(metrics.r2_score (true, pred)) + '\\n' +\n",
    "                  'MAE  ' + str(metrics.mean_absolute_error(true, pred)))\n",
    "\n",
    "def calc_scores(model, X_train, y_train, X_test, y_test):\n",
    "    return print ('Train score  ' + str(model.score (X_train, y_train))  + '\\n' +\n",
    "                  'Test score   ' + str(model.score (X_test, y_test)) + '\\n' +\n",
    "                  'Baseline     ' + str(cross_val_score (model, X_train, y_train).mean()))"
   ]
  },
  {
   "cell_type": "code",
   "execution_count": 19,
   "metadata": {},
   "outputs": [],
   "source": [
    "X = temp1[features]"
   ]
  },
  {
   "cell_type": "code",
   "execution_count": 20,
   "metadata": {},
   "outputs": [],
   "source": [
    "y = temp1['2018']"
   ]
  },
  {
   "cell_type": "code",
   "execution_count": 21,
   "metadata": {},
   "outputs": [
    {
     "data": {
      "text/plain": [
       "((41, 5), (41,))"
      ]
     },
     "execution_count": 21,
     "metadata": {},
     "output_type": "execute_result"
    }
   ],
   "source": [
    "X.shape, y.shape"
   ]
  },
  {
   "cell_type": "code",
   "execution_count": 22,
   "metadata": {},
   "outputs": [],
   "source": [
    "X_train, X_test, y_train, y_test = train_test_split(X, y)"
   ]
  },
  {
   "cell_type": "code",
   "execution_count": 23,
   "metadata": {},
   "outputs": [],
   "source": [
    "model = LinearRegression()"
   ]
  },
  {
   "cell_type": "code",
   "execution_count": 24,
   "metadata": {},
   "outputs": [
    {
     "data": {
      "text/plain": [
       "LinearRegression()"
      ]
     },
     "execution_count": 24,
     "metadata": {},
     "output_type": "execute_result"
    }
   ],
   "source": [
    "model.fit(X_train, y_train)"
   ]
  },
  {
   "cell_type": "code",
   "execution_count": 25,
   "metadata": {},
   "outputs": [],
   "source": [
    "y_preds = model.predict(X_test)"
   ]
  },
  {
   "cell_type": "code",
   "execution_count": 26,
   "metadata": {},
   "outputs": [],
   "source": [
    "resids = pd.DataFrame(columns=['true', 'predicted'])"
   ]
  },
  {
   "cell_type": "code",
   "execution_count": 27,
   "metadata": {},
   "outputs": [],
   "source": [
    "resids['true'] = y_test\n",
    "resids['predicted'] = y_preds\n",
    "resids['resids'] = y_test - y_preds"
   ]
  },
  {
   "cell_type": "code",
   "execution_count": 28,
   "metadata": {},
   "outputs": [
    {
     "data": {
      "text/html": [
       "<div>\n",
       "<style scoped>\n",
       "    .dataframe tbody tr th:only-of-type {\n",
       "        vertical-align: middle;\n",
       "    }\n",
       "\n",
       "    .dataframe tbody tr th {\n",
       "        vertical-align: top;\n",
       "    }\n",
       "\n",
       "    .dataframe thead th {\n",
       "        text-align: right;\n",
       "    }\n",
       "</style>\n",
       "<table border=\"1\" class=\"dataframe\">\n",
       "  <thead>\n",
       "    <tr style=\"text-align: right;\">\n",
       "      <th></th>\n",
       "      <th>true</th>\n",
       "      <th>predicted</th>\n",
       "      <th>resids</th>\n",
       "    </tr>\n",
       "  </thead>\n",
       "  <tbody>\n",
       "    <tr>\n",
       "      <th>31</th>\n",
       "      <td>3.3</td>\n",
       "      <td>0.887922</td>\n",
       "      <td>2.412078</td>\n",
       "    </tr>\n",
       "    <tr>\n",
       "      <th>7</th>\n",
       "      <td>4.5</td>\n",
       "      <td>4.303041</td>\n",
       "      <td>0.196959</td>\n",
       "    </tr>\n",
       "    <tr>\n",
       "      <th>26</th>\n",
       "      <td>13.9</td>\n",
       "      <td>4.641197</td>\n",
       "      <td>9.258803</td>\n",
       "    </tr>\n",
       "    <tr>\n",
       "      <th>20</th>\n",
       "      <td>3.0</td>\n",
       "      <td>4.838656</td>\n",
       "      <td>-1.838656</td>\n",
       "    </tr>\n",
       "    <tr>\n",
       "      <th>32</th>\n",
       "      <td>6.8</td>\n",
       "      <td>2.461474</td>\n",
       "      <td>4.338526</td>\n",
       "    </tr>\n",
       "    <tr>\n",
       "      <th>16</th>\n",
       "      <td>3.6</td>\n",
       "      <td>4.966977</td>\n",
       "      <td>-1.366977</td>\n",
       "    </tr>\n",
       "    <tr>\n",
       "      <th>11</th>\n",
       "      <td>2.2</td>\n",
       "      <td>4.456177</td>\n",
       "      <td>-2.256177</td>\n",
       "    </tr>\n",
       "    <tr>\n",
       "      <th>37</th>\n",
       "      <td>3.9</td>\n",
       "      <td>5.223878</td>\n",
       "      <td>-1.323878</td>\n",
       "    </tr>\n",
       "    <tr>\n",
       "      <th>1</th>\n",
       "      <td>3.2</td>\n",
       "      <td>3.345454</td>\n",
       "      <td>-0.145454</td>\n",
       "    </tr>\n",
       "    <tr>\n",
       "      <th>17</th>\n",
       "      <td>1.7</td>\n",
       "      <td>3.170380</td>\n",
       "      <td>-1.470380</td>\n",
       "    </tr>\n",
       "    <tr>\n",
       "      <th>40</th>\n",
       "      <td>6.1</td>\n",
       "      <td>5.176344</td>\n",
       "      <td>0.923656</td>\n",
       "    </tr>\n",
       "  </tbody>\n",
       "</table>\n",
       "</div>"
      ],
      "text/plain": [
       "    true  predicted    resids\n",
       "31   3.3   0.887922  2.412078\n",
       "7    4.5   4.303041  0.196959\n",
       "26  13.9   4.641197  9.258803\n",
       "20   3.0   4.838656 -1.838656\n",
       "32   6.8   2.461474  4.338526\n",
       "16   3.6   4.966977 -1.366977\n",
       "11   2.2   4.456177 -2.256177\n",
       "37   3.9   5.223878 -1.323878\n",
       "1    3.2   3.345454 -0.145454\n",
       "17   1.7   3.170380 -1.470380\n",
       "40   6.1   5.176344  0.923656"
      ]
     },
     "execution_count": 28,
     "metadata": {},
     "output_type": "execute_result"
    }
   ],
   "source": [
    "resids"
   ]
  },
  {
   "cell_type": "code",
   "execution_count": 29,
   "metadata": {},
   "outputs": [
    {
     "name": "stdout",
     "output_type": "stream",
     "text": [
      "RMSE 3.3781884792142693\n",
      "MSE  11.412157401096017\n",
      "R2   -0.08944461186005381\n",
      "MAE  2.3210493186840626\n"
     ]
    }
   ],
   "source": [
    "calc_metrics(y_test, y_preds)"
   ]
  },
  {
   "cell_type": "code",
   "execution_count": 30,
   "metadata": {},
   "outputs": [
    {
     "name": "stdout",
     "output_type": "stream",
     "text": [
      "Train score  0.3591533012031841\n",
      "Test score   -0.08944461186005381\n",
      "Baseline     -1.0466049044712278\n"
     ]
    }
   ],
   "source": [
    "calc_scores(model, X_train, y_train, X_test, y_test)"
   ]
  },
  {
   "cell_type": "code",
   "execution_count": 36,
   "metadata": {},
   "outputs": [
    {
     "data": {
      "text/html": [
       "<div>\n",
       "<style scoped>\n",
       "    .dataframe tbody tr th:only-of-type {\n",
       "        vertical-align: middle;\n",
       "    }\n",
       "\n",
       "    .dataframe tbody tr th {\n",
       "        vertical-align: top;\n",
       "    }\n",
       "\n",
       "    .dataframe thead th {\n",
       "        text-align: right;\n",
       "    }\n",
       "</style>\n",
       "<table border=\"1\" class=\"dataframe\">\n",
       "  <thead>\n",
       "    <tr style=\"text-align: right;\">\n",
       "      <th></th>\n",
       "      <th>coef_name</th>\n",
       "      <th>coef_value</th>\n",
       "    </tr>\n",
       "  </thead>\n",
       "  <tbody>\n",
       "    <tr>\n",
       "      <th>0</th>\n",
       "      <td>p_tpl_wk</td>\n",
       "      <td>-0.604708</td>\n",
       "    </tr>\n",
       "    <tr>\n",
       "      <th>1</th>\n",
       "      <td>p_hcl_fe_wk</td>\n",
       "      <td>-0.095505</td>\n",
       "    </tr>\n",
       "    <tr>\n",
       "      <th>2</th>\n",
       "      <td>p_hcl_weeks</td>\n",
       "      <td>0.620033</td>\n",
       "    </tr>\n",
       "    <tr>\n",
       "      <th>3</th>\n",
       "      <td>m_tpl_fe_wk</td>\n",
       "      <td>0.005797</td>\n",
       "    </tr>\n",
       "    <tr>\n",
       "      <th>4</th>\n",
       "      <td>p_hcl_avg_pr</td>\n",
       "      <td>-0.021375</td>\n",
       "    </tr>\n",
       "  </tbody>\n",
       "</table>\n",
       "</div>"
      ],
      "text/plain": [
       "      coef_name  coef_value\n",
       "0      p_tpl_wk   -0.604708\n",
       "1   p_hcl_fe_wk   -0.095505\n",
       "2   p_hcl_weeks    0.620033\n",
       "3   m_tpl_fe_wk    0.005797\n",
       "4  p_hcl_avg_pr   -0.021375"
      ]
     },
     "execution_count": 36,
     "metadata": {},
     "output_type": "execute_result"
    }
   ],
   "source": [
    "pd.DataFrame(list(zip(X.columns, model.coef_)), columns=['coef_name', 'coef_value'])"
   ]
  },
  {
   "cell_type": "code",
   "execution_count": 38,
   "metadata": {},
   "outputs": [],
   "source": [
    "df = pd.read_csv('../data/labor_indicators_oecd.csv')"
   ]
  },
  {
   "cell_type": "code",
   "execution_count": 47,
   "metadata": {},
   "outputs": [],
   "source": [
    "df = df[(df['TIME'] == 2018) & (df['IND'] == 'EMP11')]"
   ]
  },
  {
   "cell_type": "code",
   "execution_count": 49,
   "metadata": {},
   "outputs": [
    {
     "data": {
      "text/plain": [
       "Index(['Country', 'IND', 'SEX', 'AGE', 'TIME', 'Unit', 'Value'], dtype='object')"
      ]
     },
     "execution_count": 49,
     "metadata": {},
     "output_type": "execute_result"
    }
   ],
   "source": [
    "df.columns"
   ]
  },
  {
   "cell_type": "code",
   "execution_count": 50,
   "metadata": {},
   "outputs": [],
   "source": [
    "df = pd.merge(df, df1, left_on='Country', right_on='country_name', how='inner')"
   ]
  },
  {
   "cell_type": "code",
   "execution_count": 52,
   "metadata": {},
   "outputs": [],
   "source": [
    "df.drop(columns=['Country', 'IND', 'SEX', 'AGE', 'TIME', 'Unit'], inplace=True)"
   ]
  },
  {
   "cell_type": "code",
   "execution_count": 56,
   "metadata": {},
   "outputs": [
    {
     "data": {
      "image/png": "[encoded data removed]",
      "text/plain": [
       "<Figure size 864x720 with 2 Axes>"
      ]
     },
     "metadata": {
      "needs_background": "light"
     },
     "output_type": "display_data"
    }
   ],
   "source": [
    "plt.figure (figsize=(12,10))\n",
    "sns.heatmap(df.corr()[['Value']].sort_values('Value', ascending=False),\n",
    "            vmax=1, vmin=-1, cmap='coolwarm', annot=True);"
   ]
  },
  {
   "cell_type": "code",
   "execution_count": 65,
   "metadata": {},
   "outputs": [],
   "source": [
    "X = df[['p_hcl_avg_pr', 'ppl_avg_pay_rate']]\n",
    "y = df['Value']"
   ]
  },
  {
   "cell_type": "code",
   "execution_count": 69,
   "metadata": {},
   "outputs": [
    {
     "data": {
      "text/plain": [
       "((35, 2), (35,))"
      ]
     },
     "execution_count": 69,
     "metadata": {},
     "output_type": "execute_result"
    }
   ],
   "source": [
    "X.shape, y.shape"
   ]
  },
  {
   "cell_type": "code",
   "execution_count": 75,
   "metadata": {},
   "outputs": [],
   "source": [
    "X_train, X_test, y_train, y_test = train_test_split(X, y)"
   ]
  },
  {
   "cell_type": "code",
   "execution_count": 76,
   "metadata": {},
   "outputs": [
    {
     "data": {
      "text/plain": [
       "((26, 2), (26,), (9, 2), (9,))"
      ]
     },
     "execution_count": 76,
     "metadata": {},
     "output_type": "execute_result"
    }
   ],
   "source": [
    "X_train.shape, y_train.shape, X_test.shape, y_test.shape"
   ]
  },
  {
   "cell_type": "code",
   "execution_count": 77,
   "metadata": {},
   "outputs": [],
   "source": [
    "model = LinearRegression()"
   ]
  },
  {
   "cell_type": "code",
   "execution_count": 78,
   "metadata": {},
   "outputs": [
    {
     "data": {
      "text/plain": [
       "LinearRegression()"
      ]
     },
     "execution_count": 78,
     "metadata": {},
     "output_type": "execute_result"
    }
   ],
   "source": [
    "model.fit(X_train, y_train)"
   ]
  },
  {
   "cell_type": "code",
   "execution_count": 79,
   "metadata": {},
   "outputs": [],
   "source": [
    "y_preds = model.predict(X_test)"
   ]
  },
  {
   "cell_type": "code",
   "execution_count": 80,
   "metadata": {},
   "outputs": [
    {
     "name": "stdout",
     "output_type": "stream",
     "text": [
      "RMSE 11.067554771229904\n",
      "MSE  122.4907686141738\n",
      "R2   0.20778341032541592\n",
      "MAE  10.091050784428685\n"
     ]
    }
   ],
   "source": [
    "calc_metrics(y_test, y_preds)"
   ]
  },
  {
   "cell_type": "code",
   "execution_count": 81,
   "metadata": {},
   "outputs": [
    {
     "name": "stdout",
     "output_type": "stream",
     "text": [
      "Train score  0.15452053255766063\n",
      "Test score   0.20778341032541592\n",
      "Baseline     -3.9774227915619145\n"
     ]
    }
   ],
   "source": [
    "calc_scores(model, X_train, y_train, X_test, y_test)"
   ]
  },
  {
   "cell_type": "code",
   "execution_count": 82,
   "metadata": {},
   "outputs": [
    {
     "data": {
      "text/html": [
       "<div>\n",
       "<style scoped>\n",
       "    .dataframe tbody tr th:only-of-type {\n",
       "        vertical-align: middle;\n",
       "    }\n",
       "\n",
       "    .dataframe tbody tr th {\n",
       "        vertical-align: top;\n",
       "    }\n",
       "\n",
       "    .dataframe thead th {\n",
       "        text-align: right;\n",
       "    }\n",
       "</style>\n",
       "<table border=\"1\" class=\"dataframe\">\n",
       "  <thead>\n",
       "    <tr style=\"text-align: right;\">\n",
       "      <th></th>\n",
       "      <th>coef_name</th>\n",
       "      <th>coef_value</th>\n",
       "    </tr>\n",
       "  </thead>\n",
       "  <tbody>\n",
       "    <tr>\n",
       "      <th>0</th>\n",
       "      <td>p_hcl_avg_pr</td>\n",
       "      <td>0.057975</td>\n",
       "    </tr>\n",
       "    <tr>\n",
       "      <th>1</th>\n",
       "      <td>ppl_avg_pay_rate</td>\n",
       "      <td>-0.075822</td>\n",
       "    </tr>\n",
       "  </tbody>\n",
       "</table>\n",
       "</div>"
      ],
      "text/plain": [
       "          coef_name  coef_value\n",
       "0      p_hcl_avg_pr    0.057975\n",
       "1  ppl_avg_pay_rate   -0.075822"
      ]
     },
     "execution_count": 82,
     "metadata": {},
     "output_type": "execute_result"
    }
   ],
   "source": [
    "pd.DataFrame(list(zip(X.columns, model.coef_)), columns=['coef_name', 'coef_value'])"
   ]
  },
  {
   "cell_type": "code",
   "execution_count": null,
   "metadata": {},
   "outputs": [],
   "source": []
  }
 ],
 "metadata": {
  "kernelspec": {
   "display_name": "Python 3",
   "language": "python",
   "name": "python3"
  },
  "language_info": {
   "codemirror_mode": {
    "name": "ipython",
    "version": 3
   },
   "file_extension": ".py",
   "mimetype": "text/x-python",
   "name": "python",
   "nbconvert_exporter": "python",
   "pygments_lexer": "ipython3",
   "version": "3.8.3"
  }
 },
 "nbformat": 4,
 "nbformat_minor": 4
}
